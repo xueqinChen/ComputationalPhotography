{
 "cells": [
  {
   "cell_type": "markdown",
   "metadata": {},
   "source": [
    "#  Raw To Image Project\n",
    "\n",
    "Author: xueqin.chen\n"
   ]
  },
  {
   "cell_type": "markdown",
   "metadata": {},
   "source": [
    "## Implement a basic image processing pipeline\n",
    "\n",
    "Requirements:\n",
    "\n",
    "Input: It is a RAW image that was captured with a Canon EOS T3 Rebel camera. Input data located in ./data/banana slug.tiff\n",
    "\n",
    "Output: A traditional image which can be normally display in PC."
   ]
  },
  {
   "cell_type": "markdown",
   "metadata": {},
   "source": [
    "### Initials\n"
   ]
  },
  {
   "cell_type": "code",
   "execution_count": 2,
   "metadata": {},
   "outputs": [
    {
     "name": "stdout",
     "output_type": "stream",
     "text": [
      "Image height:2856, width:4290, channels:3\n",
      "Image has 36756720 size with uint8 type\n",
      "The image has 8 bits per unsigned integer\n"
     ]
    }
   ],
   "source": [
    "import cv2\n",
    "\n",
    "import numpy as np\n",
    "import matplotlib.pyplot as plt\n",
    "\n",
    "rawImg = cv2.imread('.././data/banana_slug.tiff')\n",
    "\n",
    "height, width, channels = rawImg.shape\n",
    "print('Image height:' + str(height) +  ', width:' + str(width) + ', channels:' + str(channels))\n",
    "print('Image has ' + str(rawImg.size) + ' size with ' + str(rawImg.dtype) + ' type')\n",
    "print('The image has ' + str(rawImg.itemsize * 8)) + ' bits per unsigned integer'\n",
    "rawImgDouble = np.double(rawImg)\n",
    "\n",
    "\n",
    "# plt.axis(\"off\");\n",
    "# plt.imshow(rawImg)\n",
    "# plt.show()"
   ]
  },
  {
   "cell_type": "markdown",
   "metadata": {},
   "source": [
    "### Linearization\n",
    "\n",
    "1. All pixels with a value lower than 2047 correspond to pixels that would be black. \n",
    "\n",
    "2. All pixels with a value above 15000 are over-exposed pixels.\n",
    "\n",
    "3. normalized all pixels to 0-1"
   ]
  },
  {
   "cell_type": "code",
   "execution_count": 3,
   "metadata": {
    "collapsed": true
   },
   "outputs": [],
   "source": [
    "rawImgDouble = cv2.min(2047, rawImgDouble)\n",
    "rawImgDouble = cv2.max(15000, rawImgDouble)\n",
    "\n",
    "rawImgNorm = np.zeros((height, width))\n",
    "ret = cv2.normalize(rawImgDouble, rawImgNorm, 1.0, 0, cv2.NORM_MINMAX)"
   ]
  },
  {
   "cell_type": "markdown",
   "metadata": {},
   "source": [
    "### Identifying the correct Bayer pattern\n",
    "\n",
    "Choose which pattern is the right Bayer pattern:\n",
    "1. ’grbg’\n",
    "2. ’rggb’\n",
    "3. ’bggr’\n",
    "4. ’gbrg’"
   ]
  },
  {
   "cell_type": "code",
   "execution_count": 4,
   "metadata": {
    "collapsed": true
   },
   "outputs": [],
   "source": [
    "rawB = np.zeros((height, width), dtype=rawImg.dtype)\n",
    "rawG = np.zeros((height, width), dtype=rawImg.dtype)\n",
    "rawR = np.zeros((height, width), dtype=rawImg.dtype)\n",
    "\n",
    "rawB[:, :] = rawImg[:,:,0]\n",
    "rawG[:, :] = rawImg[:,:,1]\n",
    "rawR[:, :] = rawImg[:,:,2]"
   ]
  },
  {
   "cell_type": "code",
   "execution_count": 5,
   "metadata": {},
   "outputs": [],
   "source": [
    "dpi = 72.0\n",
    "figsize = height / float(dpi), width / float(dpi)\n",
    "fig = plt.figure(figsize=figsize, dpi=72.0)\n",
    "\n",
    "# plt.subplot(111), plt.title(\"B\"), plt.imshow(rawB), plt.axis(\"off\")\n",
    "# plt.show()\n",
    "\n",
    "\n",
    "\n",
    "# plt.subplot(313), plt.title(\"R\"), plt.imshow(rawR), plt.axis(\"off\")\n",
    "\n"
   ]
  },
  {
   "cell_type": "code",
   "execution_count": 6,
   "metadata": {},
   "outputs": [],
   "source": [
    "dpi = 72.0\n",
    "figsize = height / float(dpi), width / float(dpi)\n",
    "fig = plt.figure(figsize=figsize, dpi=72.0)\n",
    "# plt.subplot(111), plt.title(\"G\"), plt.imshow(rawG), plt.axis(\"off\")\n",
    "# plt.show()"
   ]
  },
  {
   "cell_type": "code",
   "execution_count": 21,
   "metadata": {},
   "outputs": [
    {
     "name": "stdout",
     "output_type": "stream",
     "text": [
      "(100, 100)=8  (100, 101)=9  \n",
      "(101, 100)=9  (101, 101)=8  \n",
      "(102, 100)=8  (102, 101)=9  \n",
      "(103, 100)=9  (103, 101)=8  \n",
      "(104, 100)=8  (104, 101)=9  \n",
      "(105, 100)=9  (105, 101)=8  \n",
      "(106, 100)=8  (106, 101)=9  \n",
      "(107, 100)=9  (107, 101)=8  \n",
      "(108, 100)=8  (108, 101)=9  \n",
      "(109, 100)=9  (109, 101)=8  \n",
      "(110, 100)=8  (110, 101)=9  \n",
      "(111, 100)=9  (111, 101)=8  \n",
      "(112, 100)=8  (112, 101)=9  \n",
      "(113, 100)=9  (113, 101)=8  \n",
      "(114, 100)=8  (114, 101)=9  \n",
      "(115, 100)=9  (115, 101)=8  \n",
      "(116, 100)=8  (116, 101)=9  \n",
      "(117, 100)=9  (117, 101)=8  \n",
      "(118, 100)=8  (118, 101)=9  \n",
      "(119, 100)=9  (119, 101)=8  \n"
     ]
    }
   ],
   "source": [
    "cv2.imwrite('.././data/rawB.jpg', rawB)\n",
    "for i in range(100, 120):\n",
    "    rowV=''\n",
    "    for j in range(100,102):\n",
    "        rowV += '(%d, %d)=%d  '%(i, j, rawB[i,j])\n",
    "    print(rowV)"
   ]
  },
  {
   "cell_type": "code",
   "execution_count": null,
   "metadata": {
    "collapsed": true
   },
   "outputs": [],
   "source": []
  },
  {
   "cell_type": "code",
   "execution_count": null,
   "metadata": {
    "collapsed": true
   },
   "outputs": [],
   "source": []
  }
 ],
 "metadata": {
  "kernelspec": {
   "display_name": "Python 2",
   "language": "python",
   "name": "python2"
  },
  "language_info": {
   "codemirror_mode": {
    "name": "ipython",
    "version": 2
   },
   "file_extension": ".py",
   "mimetype": "text/x-python",
   "name": "python",
   "nbconvert_exporter": "python",
   "pygments_lexer": "ipython2",
   "version": "2.7.13"
  }
 },
 "nbformat": 4,
 "nbformat_minor": 2
}
