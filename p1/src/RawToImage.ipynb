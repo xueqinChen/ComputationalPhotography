{
 "cells": [
  {
   "cell_type": "markdown",
   "metadata": {},
   "source": [
    "#  Raw To Image Project\n",
    "\n",
    "Author: xueqin.chen\n"
   ]
  },
  {
   "cell_type": "markdown",
   "metadata": {},
   "source": [
    "## Implement a basic image processing pipeline\n",
    "\n",
    "Requirements:\n",
    "\n",
    "Input: It is a RAW image that was captured with a Canon EOS T3 Rebel camera. Input data located in ./data/banana slug.tiff\n",
    "\n",
    "Output: A traditional image which can be normally display in PC."
   ]
  },
  {
   "cell_type": "markdown",
   "metadata": {},
   "source": [
    "### Initials\n"
   ]
  },
  {
   "cell_type": "code",
   "execution_count": 153,
   "metadata": {},
   "outputs": [
    {
     "name": "stdout",
     "output_type": "stream",
     "text": [
      "Image height:2856, width:4290, channels:1\n",
      "Image has 12252240 size with uint16 type\n",
      "The image has 16 bits per integer\n"
     ]
    }
   ],
   "source": [
    "import cv2\n",
    "\n",
    "import numpy as np\n",
    "import matplotlib.pyplot as plt\n",
    "\n",
    "rawImg = cv2.imread('../data/banana_slug.tiff', cv2.IMREAD_ANYDEPTH)\n",
    "\n",
    "height, width = rawImg.shape\n",
    "channels = 1\n",
    "print('Image height:' + str(height) +  ', width:' + str(width) + ', channels:' + str(channels))\n",
    "print('Image has ' + str(rawImg.size) + ' size with ' + str(rawImg.dtype) + ' type')\n",
    "print(('The image has ' + str(rawImg.itemsize * 8)) + ' bits per integer')\n",
    "rawImgDouble = np.double(rawImg)\n",
    "\n",
    "# plt.axis(\"off\");\n",
    "# plt.imshow(rawImg)\n",
    "# plt.show()\n"
   ]
  },
  {
   "cell_type": "markdown",
   "metadata": {},
   "source": [
    "### Linearization\n",
    "\n",
    "1. All pixels with a value lower than 2047 correspond to pixels that would be black. \n",
    "\n",
    "2. All pixels with a value above 15000 are over-exposed pixels.\n",
    "\n",
    "3. normalized all pixels to 0-1"
   ]
  },
  {
   "cell_type": "code",
   "execution_count": 154,
   "metadata": {},
   "outputs": [
    {
     "name": "stdout",
     "output_type": "stream",
     "text": [
      "min:2047.0 max:15000.0\n"
     ]
    }
   ],
   "source": [
    "rawImgDouble = np.minimum(15000, rawImgDouble)\n",
    "rawImgDouble = np.maximum(2047, rawImgDouble)\n",
    "\n",
    "minVal, maxVal, minIndex, maxIndex = cv2.minMaxLoc(rawImgDouble)\n",
    "print(\"min:\" + str(minVal) + \" max:\" + str(maxVal))\n",
    "\n",
    "rawImgNorm = np.zeros((height, width))\n",
    "ret = cv2.normalize(rawImgDouble, rawImgNorm, 1.0, 0, cv2.NORM_MINMAX)"
   ]
  },
  {
   "cell_type": "markdown",
   "metadata": {},
   "source": [
    "### Identifying the correct Bayer pattern\n",
    "\n",
    "Choose which pattern is the right Bayer pattern:\n",
    "1. ’grbg’\n",
    "2. ’rggb’\n",
    "3. ’bggr’\n",
    "4. ’gbrg’"
   ]
  },
  {
   "cell_type": "code",
   "execution_count": 155,
   "metadata": {},
   "outputs": [
    {
     "name": "stdout",
     "output_type": "stream",
     "text": [
      "(0, 0)=3  (0, 1)=6  (0, 2)=3  (0, 3)=8  \n",
      "(1, 0)=7  (1, 1)=3  (1, 2)=8  (1, 3)=3  \n",
      "(2, 0)=3  (2, 1)=7  (2, 2)=3  (2, 3)=8  \n",
      "(3, 0)=7  (3, 1)=3  (3, 2)=7  (3, 3)=3  \n"
     ]
    }
   ],
   "source": [
    "## for identify bayer pattern\n",
    "## get uchar image\n",
    "rawImgUchar = np.zeros((height, width))\n",
    "ret = cv2.normalize(rawImgDouble, rawImgUchar, 255, 0, cv2.NORM_MINMAX)\n",
    "\n",
    "for i in range(0, 4):\n",
    "    rowV=''\n",
    "    for j in range(0,4):\n",
    "        rowV += '(%d, %d)=%d  '%(i, j, rawImgUchar[i,j])\n",
    "    print(rowV)\n",
    "    \n",
    "imgR = rawImgUchar[::2,::2] # red pixels\n",
    "imgG[0::2,:] = rawImgUchar[::2,1::2] # green pixels\n",
    "imgG[1::2,:] = rawImgUchar[1::2,::2] # green pixels\n",
    "imgB = rawImgUchar[1::2,1::2] # blue pixels\n",
    "\n",
    "# imgR = rawImgUchar[::2,1::2] # red pixels\n",
    "# imgG[0::2,:] = rawImgUchar[::2,::2] # green pixels\n",
    "# imgG[1::2,:] = rawImgUchar[1::2,1::2] # green pixels\n",
    "# imgB = rawImgUchar[1::2,0::2] # blue pixels\n",
    "\n",
    "cv2.imwrite('../data/imgR.jpg', imgR)\n",
    "cv2.imwrite('../data/imgG.jpg', imgG)\n",
    "cv2.imwrite('../data/imgB.jpg', imgB)\n",
    "\n",
    "\n",
    "## Get normalize double image\n",
    "imgG = np.zeros((height, width>>1), dtype=rawImgNorm.dtype)\n",
    "imgR = rawImgNorm[::2,::2] # red pixels\n",
    "imgG[0::2,:] = rawImgNorm[::2,1::2] # green pixels\n",
    "imgG[1::2,:] = rawImgNorm[1::2,::2] # green pixels\n",
    "imgB = rawImgNorm[1::2,1::2] # blue pixels\n",
    "\n",
    "\n",
    "# imgR = rawImgNorm[::2,1::2] # red pixels\n",
    "# imgG[0::2,:] = rawImgNorm[::2,::2] # green pixels\n",
    "# imgG[1::2,:] = rawImgNorm[1::2,1::2] # green pixels\n",
    "# imgB = rawImgNorm[1::2,0::2] # blue pixels"
   ]
  },
  {
   "cell_type": "markdown",
   "metadata": {},
   "source": [
    "### White balancing\n",
    "Implement both white world and gray world automatic white balancing algorithms"
   ]
  },
  {
   "cell_type": "code",
   "execution_count": 156,
   "metadata": {},
   "outputs": [
    {
     "name": "stdout",
     "output_type": "stream",
     "text": [
      "r: mean:0.031746930858 max:0.379217169768 min:0.0\n",
      "g: mean:0.0581069658666 max:1.0 min:0.0\n",
      "b: mean:0.0332868023435 max:0.655369412491 min:0.0\n",
      "white r max:0.694087854926 min:0.0\n",
      "white g max:1.0 min:0.0\n",
      "white b max:1.14404284583 min:0.0\n"
     ]
    }
   ],
   "source": [
    "## gray  world\n",
    "mean_r = cv2.mean(imgR)\n",
    "mean_g = cv2.mean(imgG)\n",
    "mean_b = cv2.mean(imgB)\n",
    "# mean_gray = (mean_r[0] + mean_g[0] + mean_b[0])/3\n",
    "# white_r = mean_gray/mean_r[0] * imgR\n",
    "# white_g = mean_gray/mean_g[0] * imgG\n",
    "# white_b = mean_gray/mean_b[0] * imgB\n",
    "\n",
    "white_r = mean_g[0]/mean_r[0] * imgR\n",
    "white_g = imgG\n",
    "white_b = mean_g[0]/mean_b[0] * imgB\n",
    "\n",
    "## white  world\n",
    "max_r = np.max(imgR)\n",
    "max_g = np.max(imgG)\n",
    "max_b = np.max(imgB)\n",
    "\n",
    "white_r2 = max_g/max_r * imgR\n",
    "white_g2 = imgG\n",
    "white_b2 = max_g/max_b * imgB\n",
    "\n",
    "print(\"r: mean:\" + str(mean_r[0]) + \" max:\"+ str(max_r) + \" min:\" + str(np.min(imgR)))\n",
    "print(\"g: mean:\" + str(mean_g[0]) + \" max:\"+ str(max_g) + \" min:\" + str(np.min(imgG)))\n",
    "print(\"b: mean:\" + str(mean_b[0]) + \" max:\"+ str(max_b) + \" min:\" + str(np.min(imgB)))\n",
    "\n",
    "print(\"white r max:\"+ str(np.max(white_r)) + \" min:\" + str(np.min(white_r)))\n",
    "print(\"white g max:\"+ str(np.max(white_g)) + \" min:\" + str(np.min(white_g)))\n",
    "print(\"white b max:\"+ str(np.max(white_b)) + \" min:\" + str(np.min(white_b)))\n"
   ]
  },
  {
   "cell_type": "markdown",
   "metadata": {},
   "source": [
    "### Demosaicing\n",
    "Use bilinear interpolation for demosaicking"
   ]
  },
  {
   "cell_type": "code",
   "execution_count": 163,
   "metadata": {},
   "outputs": [
    {
     "name": "stdout",
     "output_type": "stream",
     "text": [
      "r max:10813 min:0\n",
      "g max:14455 min:0\n",
      "b max:16383 min:0\n",
      "r max:168 min:0\n",
      "g max:225 min:0\n",
      "b max:255 min:0\n"
     ]
    },
    {
     "data": {
      "text/plain": [
       "True"
      ]
     },
     "execution_count": 163,
     "metadata": {},
     "output_type": "execute_result"
    }
   ],
   "source": [
    "large_imgR = cv2.resize(white_r, (width, height), cv2.INTER_LINEAR)\n",
    "large_imgG = cv2.resize(white_g, (width, height), cv2.INTER_LINEAR)\n",
    "large_imgB = cv2.resize(white_b, (width, height), cv2.INTER_LINEAR)\n",
    "\n",
    "color_image = np.zeros(rawImgNorm.shape + (3,))\n",
    "color_image[:,:,0] = large_imgR\n",
    "color_image[:,:,1] = large_imgG\n",
    "color_image[:,:,2] = large_imgB\n",
    "\n",
    "## 2's 14 -1\n",
    "ret = cv2.normalize(color_image, color_image, 16383, 0, cv2.NORM_MINMAX)\n",
    "color_image = np.uint16(color_image)\n",
    "\n",
    "\n",
    "print(\"r max:\"+ str(np.max(color_image[:,:,0])) + \" min:\" + str(np.min(color_image[:,:,0])))\n",
    "print(\"g max:\"+ str(np.max(color_image[:,:,1])) + \" min:\" + str(np.min(color_image[:,:,1])))\n",
    "print(\"b max:\"+ str(np.max(color_image[:,:,2])) + \" min:\" + str(np.min(color_image[:,:,2])))\n",
    "\n",
    "## Check result\n",
    "res_temp = np.zeros(color_image.shape, dtype=np.uint16)\n",
    "ret = cv2.normalize(color_image, res_temp, 255, 0, cv2.NORM_MINMAX)\n",
    "res_temp = np.uint8(res_temp)\n",
    "print(\"r max:\"+ str(np.max(res_temp[:,:,0])) + \" min:\" + str(np.min(res_temp[:,:,0])))\n",
    "print(\"g max:\"+ str(np.max(res_temp[:,:,1])) + \" min:\" + str(np.min(res_temp[:,:,1])))\n",
    "print(\"b max:\"+ str(np.max(res_temp[:,:,2])) + \" min:\" + str(np.min(res_temp[:,:,2])))\n",
    "cv2.imwrite('../data/out_temp.jpg', res_temp)\n"
   ]
  },
  {
   "cell_type": "markdown",
   "metadata": {},
   "source": [
    "### Brightness adjustment and gamma correction\n",
    "\n",
    "Cnon-linear = 12.92 · Clinear, Clinear < 0.0031308\n",
    "\n",
    "Cnon-linear = (1 + 0.055) · C((1)/2.4) (linear) − 0.055, Clinear >= 0.0031308"
   ]
  },
  {
   "cell_type": "code",
   "execution_count": null,
   "metadata": {
    "collapsed": true
   },
   "outputs": [],
   "source": []
  },
  {
   "cell_type": "code",
   "execution_count": 6,
   "metadata": {
    "collapsed": true
   },
   "outputs": [],
   "source": [
    "dpi = 72.0\n",
    "figsize = height / float(dpi), width / float(dpi)\n",
    "fig = plt.figure(figsize=figsize, dpi=72.0)\n",
    "# plt.subplot(111), plt.title(\"G\"), plt.imshow(rawG), plt.axis(\"off\")\n",
    "# plt.show()"
   ]
  },
  {
   "cell_type": "code",
   "execution_count": null,
   "metadata": {
    "collapsed": true
   },
   "outputs": [],
   "source": []
  },
  {
   "cell_type": "code",
   "execution_count": null,
   "metadata": {
    "collapsed": true
   },
   "outputs": [],
   "source": []
  }
 ],
 "metadata": {
  "kernelspec": {
   "display_name": "Python 2",
   "language": "python",
   "name": "python2"
  },
  "language_info": {
   "codemirror_mode": {
    "name": "ipython",
    "version": 2
   },
   "file_extension": ".py",
   "mimetype": "text/x-python",
   "name": "python",
   "nbconvert_exporter": "python",
   "pygments_lexer": "ipython2",
   "version": "2.7.13"
  }
 },
 "nbformat": 4,
 "nbformat_minor": 2
}
